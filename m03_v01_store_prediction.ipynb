{
 "cells": [
  {
   "cell_type": "markdown",
   "id": "15d8a921",
   "metadata": {
    "heading_collapsed": true
   },
   "source": [
    "# 0.0 IMPORTS"
   ]
  },
  {
   "cell_type": "code",
   "execution_count": 1,
   "id": "56e2c36f",
   "metadata": {
    "ExecuteTime": {
     "end_time": "2022-08-25T08:22:24.582325Z",
     "start_time": "2022-08-25T08:22:06.728333Z"
    },
    "hidden": true,
    "scrolled": true
   },
   "outputs": [
    {
     "name": "stderr",
     "output_type": "stream",
     "text": [
      "C:\\Users\\Jacqueline\\.conda\\envs\\DataSciente_Em_Producao\\lib\\site-packages\\scipy\\__init__.py:146: UserWarning: A NumPy version >=1.16.5 and <1.23.0 is required for this version of SciPy (detected version 1.23.1\n",
      "  warnings.warn(f\"A NumPy version >={np_minversion} and <{np_maxversion}\"\n"
     ]
    }
   ],
   "source": [
    "import pandas as pd\n",
    "import inflection \n",
    "import math\n",
    "import numpy as np\n",
    "import seaborn as sns\n",
    "import datetime as dt\n",
    "\n",
    "\n",
    "from matplotlib import pyplot as plt\n",
    "from IPython.display import Image\n",
    "\n"
   ]
  },
  {
   "cell_type": "markdown",
   "id": "64e4f37d",
   "metadata": {
    "heading_collapsed": true,
    "hidden": true
   },
   "source": [
    "## 0.01 Helper Funcionts"
   ]
  },
  {
   "cell_type": "markdown",
   "id": "9f8d2ec3",
   "metadata": {
    "hidden": true
   },
   "source": [
    "## 0.02 Loading Data"
   ]
  },
  {
   "cell_type": "code",
   "execution_count": 2,
   "id": "5c3e1cb9",
   "metadata": {
    "ExecuteTime": {
     "end_time": "2022-08-25T08:22:29.463984Z",
     "start_time": "2022-08-25T08:22:24.592298Z"
    },
    "hidden": true,
    "scrolled": true
   },
   "outputs": [],
   "source": [
    "df_sales_raw = pd.read_csv ('data/train.csv', low_memory=False)\n",
    "df_store_raw = pd.read_csv ('data/store.csv', low_memory=False)\n",
    "#Merge\n",
    "df_raw = pd.merge (df_sales_raw,df_store_raw, how='left', on = 'Store')\n"
   ]
  },
  {
   "cell_type": "markdown",
   "id": "e3236eb6",
   "metadata": {},
   "source": [
    "# 1.0 PASSO 01 - DESCRICAO DOS DADOS"
   ]
  },
  {
   "cell_type": "code",
   "execution_count": 3,
   "id": "76f2179f",
   "metadata": {
    "ExecuteTime": {
     "end_time": "2022-08-25T08:22:30.077626Z",
     "start_time": "2022-08-25T08:22:29.470961Z"
    },
    "scrolled": true
   },
   "outputs": [],
   "source": [
    "#Cópia dos dados da secao anterior - backup caso precise rodar novamente\n",
    "df1 = df_raw.copy()"
   ]
  },
  {
   "cell_type": "markdown",
   "id": "50d76b69",
   "metadata": {},
   "source": [
    "## 1.1 Rename Columns"
   ]
  },
  {
   "cell_type": "code",
   "execution_count": 4,
   "id": "771104d8",
   "metadata": {
    "ExecuteTime": {
     "end_time": "2022-08-25T08:22:30.124502Z",
     "start_time": "2022-08-25T08:22:30.090595Z"
    },
    "scrolled": true
   },
   "outputs": [
    {
     "data": {
      "text/plain": [
       "Index(['Store', 'DayOfWeek', 'Date', 'Sales', 'Customers', 'Open', 'Promo',\n",
       "       'StateHoliday', 'SchoolHoliday', 'StoreType', 'Assortment',\n",
       "       'CompetitionDistance', 'CompetitionOpenSinceMonth',\n",
       "       'CompetitionOpenSinceYear', 'Promo2', 'Promo2SinceWeek',\n",
       "       'Promo2SinceYear', 'PromoInterval'],\n",
       "      dtype='object')"
      ]
     },
     "execution_count": 4,
     "metadata": {},
     "output_type": "execute_result"
    }
   ],
   "source": [
    "df1.columns"
   ]
  },
  {
   "cell_type": "code",
   "execution_count": 5,
   "id": "bf45f6b1",
   "metadata": {
    "ExecuteTime": {
     "end_time": "2022-08-25T08:22:30.173375Z",
     "start_time": "2022-08-25T08:22:30.139462Z"
    },
    "scrolled": true
   },
   "outputs": [],
   "source": [
    "cols_old = ['Store', 'DayOfWeek', 'Date', 'Sales', 'Customers', 'Open', 'Promo','StateHoliday', 'SchoolHoliday',                           'StoreType', 'Assortment','CompetitionDistance', 'CompetitionOpenSinceMonth','CompetitionOpenSinceYear', 'Promo2',             'Promo2SinceWeek','Promo2SinceYear', 'PromoInterval']\n",
    "snakecase = lambda x: inflection.underscore(x)\n",
    "cols_new = list(map(snakecase,cols_old))\n",
    "df1.columns = cols_new\n",
    "                "
   ]
  },
  {
   "cell_type": "markdown",
   "id": "16feb961",
   "metadata": {},
   "source": [
    "##  1.2. Date Dimension\n"
   ]
  },
  {
   "cell_type": "code",
   "execution_count": 6,
   "id": "8b39dda7",
   "metadata": {
    "ExecuteTime": {
     "end_time": "2022-08-25T08:22:30.220246Z",
     "start_time": "2022-08-25T08:22:30.191324Z"
    },
    "scrolled": true
   },
   "outputs": [
    {
     "name": "stdout",
     "output_type": "stream",
     "text": [
      "Number of rows 1017209\n",
      "Number of columns 18\n"
     ]
    }
   ],
   "source": [
    "print ('Number of rows {}'.    format (df1.shape[0]))\n",
    "print ('Number of columns {}'. format (df1.shape[1]))\n",
    "\n"
   ]
  },
  {
   "cell_type": "markdown",
   "id": "a19d4e20",
   "metadata": {},
   "source": [
    "## 1.3 Data Types"
   ]
  },
  {
   "cell_type": "code",
   "execution_count": 7,
   "id": "2d3be4a4",
   "metadata": {
    "ExecuteTime": {
     "end_time": "2022-08-25T08:22:30.677389Z",
     "start_time": "2022-08-25T08:22:30.227227Z"
    }
   },
   "outputs": [
    {
     "data": {
      "text/plain": [
       "store                                    int64\n",
       "day_of_week                              int64\n",
       "date                            datetime64[ns]\n",
       "sales                                    int64\n",
       "customers                                int64\n",
       "open                                     int64\n",
       "promo                                    int64\n",
       "state_holiday                           object\n",
       "school_holiday                           int64\n",
       "store_type                              object\n",
       "assortment                              object\n",
       "competition_distance                   float64\n",
       "competition_open_since_month           float64\n",
       "competition_open_since_year            float64\n",
       "promo2                                   int64\n",
       "promo2_since_week                      float64\n",
       "promo2_since_year                      float64\n",
       "promo_interval                          object\n",
       "dtype: object"
      ]
     },
     "execution_count": 7,
     "metadata": {},
     "output_type": "execute_result"
    }
   ],
   "source": [
    "#Tranformando o campo data em tipo data\n",
    "df1['date'] = pd.to_datetime(df1['date'])\n",
    "df1.dtypes "
   ]
  },
  {
   "cell_type": "markdown",
   "id": "a66537d9",
   "metadata": {},
   "source": [
    "## 1.4 Check NA"
   ]
  },
  {
   "cell_type": "code",
   "execution_count": 8,
   "id": "4fb7571b",
   "metadata": {
    "ExecuteTime": {
     "end_time": "2022-08-25T08:22:33.374250Z",
     "start_time": "2022-08-25T08:22:30.686366Z"
    }
   },
   "outputs": [
    {
     "data": {
      "text/plain": [
       "store                                0\n",
       "day_of_week                          0\n",
       "date                                 0\n",
       "sales                                0\n",
       "customers                            0\n",
       "open                                 0\n",
       "promo                                0\n",
       "state_holiday                        0\n",
       "school_holiday                       0\n",
       "store_type                           0\n",
       "assortment                           0\n",
       "competition_distance              2642\n",
       "competition_open_since_month    323348\n",
       "competition_open_since_year     323348\n",
       "promo2                               0\n",
       "promo2_since_week               508031\n",
       "promo2_since_year               508031\n",
       "promo_interval                  508031\n",
       "dtype: int64"
      ]
     },
     "execution_count": 8,
     "metadata": {},
     "output_type": "execute_result"
    }
   ],
   "source": [
    "df1.isna().sum()"
   ]
  },
  {
   "cell_type": "markdown",
   "id": "b20ab939",
   "metadata": {},
   "source": [
    "## 1.5 Fillout NA"
   ]
  },
  {
   "cell_type": "code",
   "execution_count": 9,
   "id": "026b76fc",
   "metadata": {
    "ExecuteTime": {
     "end_time": "2022-08-25T08:27:21.493462Z",
     "start_time": "2022-08-25T08:22:33.385226Z"
    }
   },
   "outputs": [],
   "source": [
    "#competition_distance             \n",
    "df1['competition_distance'] =df1['competition_distance'].apply(lambda x: 200000 if math.isnan(x) else x)\n",
    "\n",
    "#competition_open_since_month    \n",
    "df1['competition_open_since_month']= df1.apply(lambda x: x['date'].month if math.isnan(x['competition_open_since_month']) else x['competition_open_since_month'], axis = 1)\n",
    "\n",
    "#competition_open_since_year     \n",
    "df1['competition_open_since_year'] = df1.apply(lambda x: x['date'].year  if math.isnan(x['competition_open_since_year']) else x['competition_open_since_year'], axis = 1 )\n",
    "\n",
    "#promo2_since_week        \n",
    "df1['promo2_since_week'] = df1.apply(lambda x: x['date'].week if math.isnan(x['promo2_since_week']) else x['promo2_since_week'], axis = 1)\n",
    "\n",
    "#promo2_since_year\n",
    "df1['promo2_since_year'] = df1.apply(lambda x : x['date'].year if math.isnan(x['promo2_since_year']) else x['promo2_since_year'], axis = 1)\n",
    "\n",
    "#promo_interval            \n",
    "month_map = {1  : 'Jan',2  : 'Feb',3  : 'Mar',4  : 'Apr',5  : 'May',6  : 'Jun',7  : 'Jul',8  : 'Aug',9  : 'Sep',10 : 'Oct',11 : 'Nov',12 : 'Dec' }\n",
    "\n",
    "df1['promo_interval'].fillna(0,inplace = True)\n",
    "df1['month_map'] = df1['date'].dt.month.map(month_map)\n",
    "\n",
    "\n",
    "#comparando se o mes de venda 'date'está contido no periodo de promocao 'promo_intervale separando os meses da coluna promo_interval com espaco pois estao todos juntos'\n",
    "df1['is_promo'] =df1[['promo_interval', 'month_map']].apply                                                                            (lambda x: 0 if x['promo_interval'] == 0 else                                                                                             1 if x['month_map'] in x['promo_interval'].split(',') else 0, axis= 1)\n",
    "\n"
   ]
  },
  {
   "cell_type": "code",
   "execution_count": 10,
   "id": "fa0cdb82",
   "metadata": {
    "ExecuteTime": {
     "end_time": "2022-08-25T08:27:21.729820Z",
     "start_time": "2022-08-25T08:27:21.510374Z"
    }
   },
   "outputs": [
    {
     "data": {
      "text/html": [
       "<div>\n",
       "<style scoped>\n",
       "    .dataframe tbody tr th:only-of-type {\n",
       "        vertical-align: middle;\n",
       "    }\n",
       "\n",
       "    .dataframe tbody tr th {\n",
       "        vertical-align: top;\n",
       "    }\n",
       "\n",
       "    .dataframe thead th {\n",
       "        text-align: right;\n",
       "    }\n",
       "</style>\n",
       "<table border=\"1\" class=\"dataframe\">\n",
       "  <thead>\n",
       "    <tr style=\"text-align: right;\">\n",
       "      <th></th>\n",
       "      <th>414194</th>\n",
       "      <th>876074</th>\n",
       "      <th>180864</th>\n",
       "      <th>812159</th>\n",
       "      <th>452050</th>\n",
       "    </tr>\n",
       "  </thead>\n",
       "  <tbody>\n",
       "    <tr>\n",
       "      <th>store</th>\n",
       "      <td>200</td>\n",
       "      <td>470</td>\n",
       "      <td>235</td>\n",
       "      <td>110</td>\n",
       "      <td>146</td>\n",
       "    </tr>\n",
       "    <tr>\n",
       "      <th>day_of_week</th>\n",
       "      <td>3</td>\n",
       "      <td>2</td>\n",
       "      <td>4</td>\n",
       "      <td>3</td>\n",
       "      <td>4</td>\n",
       "    </tr>\n",
       "    <tr>\n",
       "      <th>date</th>\n",
       "      <td>2014-06-25 00:00:00</td>\n",
       "      <td>2013-05-07 00:00:00</td>\n",
       "      <td>2015-02-19 00:00:00</td>\n",
       "      <td>2013-07-03 00:00:00</td>\n",
       "      <td>2014-05-22 00:00:00</td>\n",
       "    </tr>\n",
       "    <tr>\n",
       "      <th>sales</th>\n",
       "      <td>6065</td>\n",
       "      <td>10613</td>\n",
       "      <td>5507</td>\n",
       "      <td>5038</td>\n",
       "      <td>7984</td>\n",
       "    </tr>\n",
       "    <tr>\n",
       "      <th>customers</th>\n",
       "      <td>840</td>\n",
       "      <td>1607</td>\n",
       "      <td>497</td>\n",
       "      <td>645</td>\n",
       "      <td>716</td>\n",
       "    </tr>\n",
       "    <tr>\n",
       "      <th>open</th>\n",
       "      <td>1</td>\n",
       "      <td>1</td>\n",
       "      <td>1</td>\n",
       "      <td>1</td>\n",
       "      <td>1</td>\n",
       "    </tr>\n",
       "    <tr>\n",
       "      <th>promo</th>\n",
       "      <td>0</td>\n",
       "      <td>0</td>\n",
       "      <td>1</td>\n",
       "      <td>1</td>\n",
       "      <td>1</td>\n",
       "    </tr>\n",
       "    <tr>\n",
       "      <th>state_holiday</th>\n",
       "      <td>0</td>\n",
       "      <td>0</td>\n",
       "      <td>0</td>\n",
       "      <td>0</td>\n",
       "      <td>0</td>\n",
       "    </tr>\n",
       "    <tr>\n",
       "      <th>school_holiday</th>\n",
       "      <td>0</td>\n",
       "      <td>0</td>\n",
       "      <td>0</td>\n",
       "      <td>1</td>\n",
       "      <td>0</td>\n",
       "    </tr>\n",
       "    <tr>\n",
       "      <th>store_type</th>\n",
       "      <td>a</td>\n",
       "      <td>a</td>\n",
       "      <td>a</td>\n",
       "      <td>a</td>\n",
       "      <td>d</td>\n",
       "    </tr>\n",
       "    <tr>\n",
       "      <th>assortment</th>\n",
       "      <td>a</td>\n",
       "      <td>c</td>\n",
       "      <td>a</td>\n",
       "      <td>c</td>\n",
       "      <td>c</td>\n",
       "    </tr>\n",
       "    <tr>\n",
       "      <th>competition_distance</th>\n",
       "      <td>1650.0</td>\n",
       "      <td>50.0</td>\n",
       "      <td>5710.0</td>\n",
       "      <td>46590.0</td>\n",
       "      <td>8050.0</td>\n",
       "    </tr>\n",
       "    <tr>\n",
       "      <th>competition_open_since_month</th>\n",
       "      <td>10.0</td>\n",
       "      <td>5.0</td>\n",
       "      <td>3.0</td>\n",
       "      <td>4.0</td>\n",
       "      <td>10.0</td>\n",
       "    </tr>\n",
       "    <tr>\n",
       "      <th>competition_open_since_year</th>\n",
       "      <td>2000.0</td>\n",
       "      <td>2013.0</td>\n",
       "      <td>2012.0</td>\n",
       "      <td>2013.0</td>\n",
       "      <td>1961.0</td>\n",
       "    </tr>\n",
       "    <tr>\n",
       "      <th>promo2</th>\n",
       "      <td>0</td>\n",
       "      <td>0</td>\n",
       "      <td>1</td>\n",
       "      <td>0</td>\n",
       "      <td>1</td>\n",
       "    </tr>\n",
       "    <tr>\n",
       "      <th>promo2_since_week</th>\n",
       "      <td>26.0</td>\n",
       "      <td>19.0</td>\n",
       "      <td>37.0</td>\n",
       "      <td>27.0</td>\n",
       "      <td>48.0</td>\n",
       "    </tr>\n",
       "    <tr>\n",
       "      <th>promo2_since_year</th>\n",
       "      <td>2014.0</td>\n",
       "      <td>2013.0</td>\n",
       "      <td>2009.0</td>\n",
       "      <td>2013.0</td>\n",
       "      <td>2012.0</td>\n",
       "    </tr>\n",
       "    <tr>\n",
       "      <th>promo_interval</th>\n",
       "      <td>0</td>\n",
       "      <td>0</td>\n",
       "      <td>Jan,Apr,Jul,Oct</td>\n",
       "      <td>0</td>\n",
       "      <td>Jan,Apr,Jul,Oct</td>\n",
       "    </tr>\n",
       "    <tr>\n",
       "      <th>month_map</th>\n",
       "      <td>Jun</td>\n",
       "      <td>May</td>\n",
       "      <td>Feb</td>\n",
       "      <td>Jul</td>\n",
       "      <td>May</td>\n",
       "    </tr>\n",
       "    <tr>\n",
       "      <th>is_promo</th>\n",
       "      <td>0</td>\n",
       "      <td>0</td>\n",
       "      <td>0</td>\n",
       "      <td>0</td>\n",
       "      <td>0</td>\n",
       "    </tr>\n",
       "  </tbody>\n",
       "</table>\n",
       "</div>"
      ],
      "text/plain": [
       "                                           414194               876074  \\\n",
       "store                                         200                  470   \n",
       "day_of_week                                     3                    2   \n",
       "date                          2014-06-25 00:00:00  2013-05-07 00:00:00   \n",
       "sales                                        6065                10613   \n",
       "customers                                     840                 1607   \n",
       "open                                            1                    1   \n",
       "promo                                           0                    0   \n",
       "state_holiday                                   0                    0   \n",
       "school_holiday                                  0                    0   \n",
       "store_type                                      a                    a   \n",
       "assortment                                      a                    c   \n",
       "competition_distance                       1650.0                 50.0   \n",
       "competition_open_since_month                 10.0                  5.0   \n",
       "competition_open_since_year                2000.0               2013.0   \n",
       "promo2                                          0                    0   \n",
       "promo2_since_week                            26.0                 19.0   \n",
       "promo2_since_year                          2014.0               2013.0   \n",
       "promo_interval                                  0                    0   \n",
       "month_map                                     Jun                  May   \n",
       "is_promo                                        0                    0   \n",
       "\n",
       "                                           180864               812159  \\\n",
       "store                                         235                  110   \n",
       "day_of_week                                     4                    3   \n",
       "date                          2015-02-19 00:00:00  2013-07-03 00:00:00   \n",
       "sales                                        5507                 5038   \n",
       "customers                                     497                  645   \n",
       "open                                            1                    1   \n",
       "promo                                           1                    1   \n",
       "state_holiday                                   0                    0   \n",
       "school_holiday                                  0                    1   \n",
       "store_type                                      a                    a   \n",
       "assortment                                      a                    c   \n",
       "competition_distance                       5710.0              46590.0   \n",
       "competition_open_since_month                  3.0                  4.0   \n",
       "competition_open_since_year                2012.0               2013.0   \n",
       "promo2                                          1                    0   \n",
       "promo2_since_week                            37.0                 27.0   \n",
       "promo2_since_year                          2009.0               2013.0   \n",
       "promo_interval                    Jan,Apr,Jul,Oct                    0   \n",
       "month_map                                     Feb                  Jul   \n",
       "is_promo                                        0                    0   \n",
       "\n",
       "                                           452050  \n",
       "store                                         146  \n",
       "day_of_week                                     4  \n",
       "date                          2014-05-22 00:00:00  \n",
       "sales                                        7984  \n",
       "customers                                     716  \n",
       "open                                            1  \n",
       "promo                                           1  \n",
       "state_holiday                                   0  \n",
       "school_holiday                                  0  \n",
       "store_type                                      d  \n",
       "assortment                                      c  \n",
       "competition_distance                       8050.0  \n",
       "competition_open_since_month                 10.0  \n",
       "competition_open_since_year                1961.0  \n",
       "promo2                                          1  \n",
       "promo2_since_week                            48.0  \n",
       "promo2_since_year                          2012.0  \n",
       "promo_interval                    Jan,Apr,Jul,Oct  \n",
       "month_map                                     May  \n",
       "is_promo                                        0  "
      ]
     },
     "execution_count": 10,
     "metadata": {},
     "output_type": "execute_result"
    }
   ],
   "source": [
    "df1.sample(5).T"
   ]
  },
  {
   "cell_type": "markdown",
   "id": "d1bf133d",
   "metadata": {},
   "source": [
    "## 1.6 Change Types\n"
   ]
  },
  {
   "cell_type": "code",
   "execution_count": 11,
   "id": "9118291a",
   "metadata": {
    "ExecuteTime": {
     "end_time": "2022-08-25T08:27:21.840640Z",
     "start_time": "2022-08-25T08:27:21.735773Z"
    },
    "scrolled": true
   },
   "outputs": [],
   "source": [
    "df1['competition_open_since_month'] = df1['competition_open_since_month'].astype('int64')\n",
    "df1['competition_open_since_year'] = df1['competition_open_since_year'].astype('int64')\n",
    "df1['promo2_since_week']= df1['promo2_since_week'].astype('int64')\n",
    "df1['competition_open_since_year'] = df1['competition_open_since_year'].astype('int64')\n"
   ]
  },
  {
   "cell_type": "code",
   "execution_count": 12,
   "id": "ca8681f4",
   "metadata": {
    "ExecuteTime": {
     "end_time": "2022-08-25T08:27:22.076280Z",
     "start_time": "2022-08-25T08:27:21.846633Z"
    }
   },
   "outputs": [
    {
     "data": {
      "text/html": [
       "<div>\n",
       "<style scoped>\n",
       "    .dataframe tbody tr th:only-of-type {\n",
       "        vertical-align: middle;\n",
       "    }\n",
       "\n",
       "    .dataframe tbody tr th {\n",
       "        vertical-align: top;\n",
       "    }\n",
       "\n",
       "    .dataframe thead th {\n",
       "        text-align: right;\n",
       "    }\n",
       "</style>\n",
       "<table border=\"1\" class=\"dataframe\">\n",
       "  <thead>\n",
       "    <tr style=\"text-align: right;\">\n",
       "      <th></th>\n",
       "      <th>store</th>\n",
       "      <th>day_of_week</th>\n",
       "      <th>date</th>\n",
       "      <th>sales</th>\n",
       "      <th>customers</th>\n",
       "      <th>open</th>\n",
       "      <th>promo</th>\n",
       "      <th>state_holiday</th>\n",
       "      <th>school_holiday</th>\n",
       "      <th>store_type</th>\n",
       "      <th>assortment</th>\n",
       "      <th>competition_distance</th>\n",
       "      <th>competition_open_since_month</th>\n",
       "      <th>competition_open_since_year</th>\n",
       "      <th>promo2</th>\n",
       "      <th>promo2_since_week</th>\n",
       "      <th>promo2_since_year</th>\n",
       "      <th>promo_interval</th>\n",
       "      <th>month_map</th>\n",
       "      <th>is_promo</th>\n",
       "    </tr>\n",
       "  </thead>\n",
       "  <tbody>\n",
       "    <tr>\n",
       "      <th>11055</th>\n",
       "      <td>1021</td>\n",
       "      <td>3</td>\n",
       "      <td>2015-07-22</td>\n",
       "      <td>8654</td>\n",
       "      <td>981</td>\n",
       "      <td>1</td>\n",
       "      <td>0</td>\n",
       "      <td>0</td>\n",
       "      <td>1</td>\n",
       "      <td>a</td>\n",
       "      <td>a</td>\n",
       "      <td>1080.0</td>\n",
       "      <td>5</td>\n",
       "      <td>2011</td>\n",
       "      <td>0</td>\n",
       "      <td>30</td>\n",
       "      <td>2015.0</td>\n",
       "      <td>0</td>\n",
       "      <td>Jul</td>\n",
       "      <td>0</td>\n",
       "    </tr>\n",
       "    <tr>\n",
       "      <th>681918</th>\n",
       "      <td>324</td>\n",
       "      <td>1</td>\n",
       "      <td>2013-10-28</td>\n",
       "      <td>4435</td>\n",
       "      <td>656</td>\n",
       "      <td>1</td>\n",
       "      <td>0</td>\n",
       "      <td>0</td>\n",
       "      <td>0</td>\n",
       "      <td>a</td>\n",
       "      <td>a</td>\n",
       "      <td>13140.0</td>\n",
       "      <td>10</td>\n",
       "      <td>2013</td>\n",
       "      <td>1</td>\n",
       "      <td>14</td>\n",
       "      <td>2011.0</td>\n",
       "      <td>Jan,Apr,Jul,Oct</td>\n",
       "      <td>Oct</td>\n",
       "      <td>1</td>\n",
       "    </tr>\n",
       "    <tr>\n",
       "      <th>548254</th>\n",
       "      <td>460</td>\n",
       "      <td>2</td>\n",
       "      <td>2014-02-25</td>\n",
       "      <td>3112</td>\n",
       "      <td>319</td>\n",
       "      <td>1</td>\n",
       "      <td>0</td>\n",
       "      <td>0</td>\n",
       "      <td>0</td>\n",
       "      <td>a</td>\n",
       "      <td>a</td>\n",
       "      <td>34050.0</td>\n",
       "      <td>4</td>\n",
       "      <td>2008</td>\n",
       "      <td>0</td>\n",
       "      <td>9</td>\n",
       "      <td>2014.0</td>\n",
       "      <td>0</td>\n",
       "      <td>Feb</td>\n",
       "      <td>0</td>\n",
       "    </tr>\n",
       "    <tr>\n",
       "      <th>872533</th>\n",
       "      <td>274</td>\n",
       "      <td>5</td>\n",
       "      <td>2013-05-10</td>\n",
       "      <td>3275</td>\n",
       "      <td>840</td>\n",
       "      <td>1</td>\n",
       "      <td>0</td>\n",
       "      <td>0</td>\n",
       "      <td>0</td>\n",
       "      <td>b</td>\n",
       "      <td>b</td>\n",
       "      <td>3640.0</td>\n",
       "      <td>5</td>\n",
       "      <td>2013</td>\n",
       "      <td>1</td>\n",
       "      <td>10</td>\n",
       "      <td>2013.0</td>\n",
       "      <td>Jan,Apr,Jul,Oct</td>\n",
       "      <td>May</td>\n",
       "      <td>0</td>\n",
       "    </tr>\n",
       "    <tr>\n",
       "      <th>763573</th>\n",
       "      <td>584</td>\n",
       "      <td>5</td>\n",
       "      <td>2013-08-16</td>\n",
       "      <td>4817</td>\n",
       "      <td>442</td>\n",
       "      <td>1</td>\n",
       "      <td>1</td>\n",
       "      <td>0</td>\n",
       "      <td>1</td>\n",
       "      <td>d</td>\n",
       "      <td>a</td>\n",
       "      <td>1360.0</td>\n",
       "      <td>8</td>\n",
       "      <td>2013</td>\n",
       "      <td>1</td>\n",
       "      <td>35</td>\n",
       "      <td>2010.0</td>\n",
       "      <td>Mar,Jun,Sept,Dec</td>\n",
       "      <td>Aug</td>\n",
       "      <td>0</td>\n",
       "    </tr>\n",
       "  </tbody>\n",
       "</table>\n",
       "</div>"
      ],
      "text/plain": [
       "        store  day_of_week       date  sales  customers  open  promo  \\\n",
       "11055    1021            3 2015-07-22   8654        981     1      0   \n",
       "681918    324            1 2013-10-28   4435        656     1      0   \n",
       "548254    460            2 2014-02-25   3112        319     1      0   \n",
       "872533    274            5 2013-05-10   3275        840     1      0   \n",
       "763573    584            5 2013-08-16   4817        442     1      1   \n",
       "\n",
       "       state_holiday  school_holiday store_type assortment  \\\n",
       "11055              0               1          a          a   \n",
       "681918             0               0          a          a   \n",
       "548254             0               0          a          a   \n",
       "872533             0               0          b          b   \n",
       "763573             0               1          d          a   \n",
       "\n",
       "        competition_distance  competition_open_since_month  \\\n",
       "11055                 1080.0                             5   \n",
       "681918               13140.0                            10   \n",
       "548254               34050.0                             4   \n",
       "872533                3640.0                             5   \n",
       "763573                1360.0                             8   \n",
       "\n",
       "        competition_open_since_year  promo2  promo2_since_week  \\\n",
       "11055                          2011       0                 30   \n",
       "681918                         2013       1                 14   \n",
       "548254                         2008       0                  9   \n",
       "872533                         2013       1                 10   \n",
       "763573                         2013       1                 35   \n",
       "\n",
       "        promo2_since_year    promo_interval month_map  is_promo  \n",
       "11055              2015.0                 0       Jul         0  \n",
       "681918             2011.0   Jan,Apr,Jul,Oct       Oct         1  \n",
       "548254             2014.0                 0       Feb         0  \n",
       "872533             2013.0   Jan,Apr,Jul,Oct       May         0  \n",
       "763573             2010.0  Mar,Jun,Sept,Dec       Aug         0  "
      ]
     },
     "execution_count": 12,
     "metadata": {},
     "output_type": "execute_result"
    }
   ],
   "source": [
    "df1.sample(5)"
   ]
  },
  {
   "cell_type": "markdown",
   "id": "d474e328",
   "metadata": {},
   "source": [
    "## 1.7 Descriptive Statiscal\n"
   ]
  },
  {
   "cell_type": "code",
   "execution_count": 13,
   "id": "58fcde23",
   "metadata": {
    "ExecuteTime": {
     "end_time": "2022-08-25T08:27:22.106989Z",
     "start_time": "2022-08-25T08:27:22.081270Z"
    }
   },
   "outputs": [],
   "source": [
    "#Separando os atributos numericos\n",
    "num_atributes = df1.select_dtypes(include =['int64', 'float64'])\n",
    "\n",
    "#Separando os atributos categóricos\n",
    "cat_atributes = df1.select_dtypes(exclude=['int64', 'float64','datetime64[ns]'])\n"
   ]
  },
  {
   "cell_type": "markdown",
   "id": "63487490",
   "metadata": {},
   "source": [
    "### 1.7.1 Numerical Atributes"
   ]
  },
  {
   "cell_type": "code",
   "execution_count": 14,
   "id": "00e42c4d",
   "metadata": {
    "ExecuteTime": {
     "end_time": "2022-08-25T08:27:28.044383Z",
     "start_time": "2022-08-25T08:27:22.112975Z"
    }
   },
   "outputs": [
    {
     "data": {
      "text/html": [
       "<div>\n",
       "<style scoped>\n",
       "    .dataframe tbody tr th:only-of-type {\n",
       "        vertical-align: middle;\n",
       "    }\n",
       "\n",
       "    .dataframe tbody tr th {\n",
       "        vertical-align: top;\n",
       "    }\n",
       "\n",
       "    .dataframe thead th {\n",
       "        text-align: right;\n",
       "    }\n",
       "</style>\n",
       "<table border=\"1\" class=\"dataframe\">\n",
       "  <thead>\n",
       "    <tr style=\"text-align: right;\">\n",
       "      <th></th>\n",
       "      <th>atributes</th>\n",
       "      <th>min</th>\n",
       "      <th>max</th>\n",
       "      <th>range</th>\n",
       "      <th>mean</th>\n",
       "      <th>meadian</th>\n",
       "      <th>std</th>\n",
       "      <th>skew</th>\n",
       "      <th>kurtoses</th>\n",
       "    </tr>\n",
       "  </thead>\n",
       "  <tbody>\n",
       "    <tr>\n",
       "      <th>0</th>\n",
       "      <td>store</td>\n",
       "      <td>1.0</td>\n",
       "      <td>1115.0</td>\n",
       "      <td>1114.0</td>\n",
       "      <td>558.429727</td>\n",
       "      <td>558.0</td>\n",
       "      <td>321.908493</td>\n",
       "      <td>-0.000955</td>\n",
       "      <td>-1.200524</td>\n",
       "    </tr>\n",
       "    <tr>\n",
       "      <th>1</th>\n",
       "      <td>day_of_week</td>\n",
       "      <td>1.0</td>\n",
       "      <td>7.0</td>\n",
       "      <td>6.0</td>\n",
       "      <td>3.998341</td>\n",
       "      <td>4.0</td>\n",
       "      <td>1.997390</td>\n",
       "      <td>0.001593</td>\n",
       "      <td>-1.246873</td>\n",
       "    </tr>\n",
       "    <tr>\n",
       "      <th>2</th>\n",
       "      <td>sales</td>\n",
       "      <td>0.0</td>\n",
       "      <td>41551.0</td>\n",
       "      <td>41551.0</td>\n",
       "      <td>5773.818972</td>\n",
       "      <td>5744.0</td>\n",
       "      <td>3849.924283</td>\n",
       "      <td>0.641460</td>\n",
       "      <td>1.778375</td>\n",
       "    </tr>\n",
       "    <tr>\n",
       "      <th>3</th>\n",
       "      <td>customers</td>\n",
       "      <td>0.0</td>\n",
       "      <td>7388.0</td>\n",
       "      <td>7388.0</td>\n",
       "      <td>633.145946</td>\n",
       "      <td>609.0</td>\n",
       "      <td>464.411506</td>\n",
       "      <td>1.598650</td>\n",
       "      <td>7.091773</td>\n",
       "    </tr>\n",
       "    <tr>\n",
       "      <th>4</th>\n",
       "      <td>open</td>\n",
       "      <td>0.0</td>\n",
       "      <td>1.0</td>\n",
       "      <td>1.0</td>\n",
       "      <td>0.830107</td>\n",
       "      <td>1.0</td>\n",
       "      <td>0.375539</td>\n",
       "      <td>-1.758045</td>\n",
       "      <td>1.090723</td>\n",
       "    </tr>\n",
       "    <tr>\n",
       "      <th>5</th>\n",
       "      <td>promo</td>\n",
       "      <td>0.0</td>\n",
       "      <td>1.0</td>\n",
       "      <td>1.0</td>\n",
       "      <td>0.381515</td>\n",
       "      <td>0.0</td>\n",
       "      <td>0.485758</td>\n",
       "      <td>0.487838</td>\n",
       "      <td>-1.762018</td>\n",
       "    </tr>\n",
       "    <tr>\n",
       "      <th>6</th>\n",
       "      <td>school_holiday</td>\n",
       "      <td>0.0</td>\n",
       "      <td>1.0</td>\n",
       "      <td>1.0</td>\n",
       "      <td>0.178647</td>\n",
       "      <td>0.0</td>\n",
       "      <td>0.383056</td>\n",
       "      <td>1.677842</td>\n",
       "      <td>0.815154</td>\n",
       "    </tr>\n",
       "    <tr>\n",
       "      <th>7</th>\n",
       "      <td>competition_distance</td>\n",
       "      <td>20.0</td>\n",
       "      <td>200000.0</td>\n",
       "      <td>199980.0</td>\n",
       "      <td>5935.442677</td>\n",
       "      <td>2330.0</td>\n",
       "      <td>12547.646829</td>\n",
       "      <td>10.242344</td>\n",
       "      <td>147.789712</td>\n",
       "    </tr>\n",
       "    <tr>\n",
       "      <th>8</th>\n",
       "      <td>competition_open_since_month</td>\n",
       "      <td>1.0</td>\n",
       "      <td>12.0</td>\n",
       "      <td>11.0</td>\n",
       "      <td>6.786849</td>\n",
       "      <td>7.0</td>\n",
       "      <td>3.311085</td>\n",
       "      <td>-0.042076</td>\n",
       "      <td>-1.232607</td>\n",
       "    </tr>\n",
       "    <tr>\n",
       "      <th>9</th>\n",
       "      <td>competition_open_since_year</td>\n",
       "      <td>1900.0</td>\n",
       "      <td>2015.0</td>\n",
       "      <td>115.0</td>\n",
       "      <td>2010.324840</td>\n",
       "      <td>2012.0</td>\n",
       "      <td>5.515591</td>\n",
       "      <td>-7.235657</td>\n",
       "      <td>124.071304</td>\n",
       "    </tr>\n",
       "    <tr>\n",
       "      <th>10</th>\n",
       "      <td>promo2</td>\n",
       "      <td>0.0</td>\n",
       "      <td>1.0</td>\n",
       "      <td>1.0</td>\n",
       "      <td>0.500564</td>\n",
       "      <td>1.0</td>\n",
       "      <td>0.500000</td>\n",
       "      <td>-0.002255</td>\n",
       "      <td>-1.999999</td>\n",
       "    </tr>\n",
       "    <tr>\n",
       "      <th>11</th>\n",
       "      <td>promo2_since_week</td>\n",
       "      <td>1.0</td>\n",
       "      <td>52.0</td>\n",
       "      <td>51.0</td>\n",
       "      <td>23.619033</td>\n",
       "      <td>22.0</td>\n",
       "      <td>14.310057</td>\n",
       "      <td>0.178723</td>\n",
       "      <td>-1.184046</td>\n",
       "    </tr>\n",
       "    <tr>\n",
       "      <th>12</th>\n",
       "      <td>promo2_since_year</td>\n",
       "      <td>2009.0</td>\n",
       "      <td>2015.0</td>\n",
       "      <td>6.0</td>\n",
       "      <td>2012.793297</td>\n",
       "      <td>2013.0</td>\n",
       "      <td>1.662657</td>\n",
       "      <td>-0.784436</td>\n",
       "      <td>-0.210075</td>\n",
       "    </tr>\n",
       "    <tr>\n",
       "      <th>13</th>\n",
       "      <td>is_promo</td>\n",
       "      <td>0.0</td>\n",
       "      <td>1.0</td>\n",
       "      <td>1.0</td>\n",
       "      <td>0.165966</td>\n",
       "      <td>0.0</td>\n",
       "      <td>0.372050</td>\n",
       "      <td>1.795644</td>\n",
       "      <td>1.224338</td>\n",
       "    </tr>\n",
       "  </tbody>\n",
       "</table>\n",
       "</div>"
      ],
      "text/plain": [
       "                       atributes     min       max     range         mean  \\\n",
       "0                          store     1.0    1115.0    1114.0   558.429727   \n",
       "1                    day_of_week     1.0       7.0       6.0     3.998341   \n",
       "2                          sales     0.0   41551.0   41551.0  5773.818972   \n",
       "3                      customers     0.0    7388.0    7388.0   633.145946   \n",
       "4                           open     0.0       1.0       1.0     0.830107   \n",
       "5                          promo     0.0       1.0       1.0     0.381515   \n",
       "6                 school_holiday     0.0       1.0       1.0     0.178647   \n",
       "7           competition_distance    20.0  200000.0  199980.0  5935.442677   \n",
       "8   competition_open_since_month     1.0      12.0      11.0     6.786849   \n",
       "9    competition_open_since_year  1900.0    2015.0     115.0  2010.324840   \n",
       "10                        promo2     0.0       1.0       1.0     0.500564   \n",
       "11             promo2_since_week     1.0      52.0      51.0    23.619033   \n",
       "12             promo2_since_year  2009.0    2015.0       6.0  2012.793297   \n",
       "13                      is_promo     0.0       1.0       1.0     0.165966   \n",
       "\n",
       "    meadian           std       skew    kurtoses  \n",
       "0     558.0    321.908493  -0.000955   -1.200524  \n",
       "1       4.0      1.997390   0.001593   -1.246873  \n",
       "2    5744.0   3849.924283   0.641460    1.778375  \n",
       "3     609.0    464.411506   1.598650    7.091773  \n",
       "4       1.0      0.375539  -1.758045    1.090723  \n",
       "5       0.0      0.485758   0.487838   -1.762018  \n",
       "6       0.0      0.383056   1.677842    0.815154  \n",
       "7    2330.0  12547.646829  10.242344  147.789712  \n",
       "8       7.0      3.311085  -0.042076   -1.232607  \n",
       "9    2012.0      5.515591  -7.235657  124.071304  \n",
       "10      1.0      0.500000  -0.002255   -1.999999  \n",
       "11     22.0     14.310057   0.178723   -1.184046  \n",
       "12   2013.0      1.662657  -0.784436   -0.210075  \n",
       "13      0.0      0.372050   1.795644    1.224338  "
      ]
     },
     "execution_count": 14,
     "metadata": {},
     "output_type": "execute_result"
    }
   ],
   "source": [
    "#Central Tendency - mean , median\n",
    "ct1= pd.DataFrame(num_atributes.apply(np.mean)).T\n",
    "ct2= pd.DataFrame(num_atributes.apply(np.median)).T\n",
    "\n",
    "#Dispersao : std, min, max, range, skew, kurtosis\n",
    "\n",
    "d1 = pd.DataFrame(num_atributes.apply(np.std)).T\n",
    "d2 = pd.DataFrame(num_atributes.apply(min)).T\n",
    "d3 = pd.DataFrame(num_atributes.apply(max)).T\n",
    "d4 = pd.DataFrame(num_atributes.apply (lambda x: x.max() - x.min())).T\n",
    "d5 = pd.DataFrame(num_atributes.apply (lambda x: x.skew())).T\n",
    "d6 = pd.DataFrame(num_atributes.apply(lambda x: x.kurtosis())).T\n",
    "\n",
    "\n",
    "#Concatenar\n",
    "m = pd.concat([d2,d3,d4,ct1,ct2,d1,d5,d6]).T.reset_index()\n",
    "m.columns=['atributes','min','max','range','mean','meadian','std','skew','kurtoses']\n",
    "m"
   ]
  },
  {
   "cell_type": "markdown",
   "id": "5658355a",
   "metadata": {},
   "source": [
    "### 1.7.2  Gráficos de Dispersão\n"
   ]
  },
  {
   "cell_type": "code",
   "execution_count": 15,
   "id": "a98f57d7",
   "metadata": {
    "ExecuteTime": {
     "end_time": "2022-08-25T08:27:53.156939Z",
     "start_time": "2022-08-25T08:27:28.050370Z"
    },
    "scrolled": true
   },
   "outputs": [
    {
     "name": "stderr",
     "output_type": "stream",
     "text": [
      "C:\\Users\\Jacqueline\\.conda\\envs\\DataSciente_Em_Producao\\lib\\site-packages\\seaborn\\distributions.py:2619: FutureWarning: `distplot` is a deprecated function and will be removed in a future version. Please adapt your code to use either `displot` (a figure-level function with similar flexibility) or `histplot` (an axes-level function for histograms).\n",
      "  warnings.warn(msg, FutureWarning)\n"
     ]
    },
    {
     "data": {
      "image/png": "[encoded data removed]",
      "text/plain": [
       "<Figure size 432x288 with 1 Axes>"
      ]
     },
     "metadata": {
      "needs_background": "light"
     },
     "output_type": "display_data"
    }
   ],
   "source": [
    "sns.distplot(df1['sales']);\n",
    "\n"
   ]
  },
  {
   "cell_type": "raw",
   "id": "ea8500ce",
   "metadata": {},
   "source": [
    "A média de venda é de 5.700.A maioria das vendas se concentra nos valores até 10.000.Tendo uma baixa dispersao pois seu desvio padráo está proximo a zer (0,67)"
   ]
  },
  {
   "cell_type": "code",
   "execution_count": 16,
   "id": "cf393cbc",
   "metadata": {
    "ExecuteTime": {
     "end_time": "2022-08-25T08:27:53.987716Z",
     "start_time": "2022-08-25T08:27:53.161926Z"
    },
    "scrolled": true
   },
   "outputs": [
    {
     "name": "stderr",
     "output_type": "stream",
     "text": [
      "C:\\Users\\Jacqueline\\.conda\\envs\\DataSciente_Em_Producao\\lib\\site-packages\\seaborn\\distributions.py:2619: FutureWarning: `distplot` is a deprecated function and will be removed in a future version. Please adapt your code to use either `displot` (a figure-level function with similar flexibility) or `histplot` (an axes-level function for histograms).\n",
      "  warnings.warn(msg, FutureWarning)\n"
     ]
    },
    {
     "data": {
      "image/png": "[encoded data removed]",
      "text/plain": [
       "<Figure size 432x288 with 1 Axes>"
      ]
     },
     "metadata": {
      "needs_background": "light"
     },
     "output_type": "display_data"
    }
   ],
   "source": [
    "sns.distplot(df1['competition_distance'], kde=False);\n",
    "\n",
    "\n",
    "\n"
   ]
  },
  {
   "cell_type": "raw",
   "id": "e4bedd4a",
   "metadata": {},
   "source": [
    "A distancia entre os competidores se concentra próxumo aos  20m (valor minimo) pois sua kutose está em 147, ou seja, muitos dados se concentra em valores muito próximos"
   ]
  },
  {
   "cell_type": "code",
   "execution_count": 17,
   "id": "255f3510",
   "metadata": {
    "ExecuteTime": {
     "end_time": "2022-08-25T08:27:54.721509Z",
     "start_time": "2022-08-25T08:27:53.994699Z"
    }
   },
   "outputs": [
    {
     "data": {
      "text/plain": [
       "state_holiday      4\n",
       "store_type         4\n",
       "assortment         3\n",
       "promo_interval     4\n",
       "month_map         12\n",
       "dtype: int64"
      ]
     },
     "execution_count": 17,
     "metadata": {},
     "output_type": "execute_result"
    }
   ],
   "source": [
    "### 1.7.1 Categorical Atributes\n",
    "cat_atributes.apply(lambda x: x.unique().shape[0])"
   ]
  },
  {
   "cell_type": "code",
   "execution_count": 18,
   "id": "7509c19d",
   "metadata": {
    "ExecuteTime": {
     "end_time": "2022-08-25T08:27:56.370943Z",
     "start_time": "2022-08-25T08:27:54.728491Z"
    }
   },
   "outputs": [
    {
     "data": {
      "text/plain": [
       "<AxesSubplot:xlabel='assortment', ylabel='sales'>"
      ]
     },
     "execution_count": 18,
     "metadata": {},
     "output_type": "execute_result"
    },
    {
     "data": {
      "image/png": "[encoded data removed]",
      "text/plain": [
       "<Figure size 1080x595.44 with 3 Axes>"
      ]
     },
     "metadata": {},
     "output_type": "display_data"
    }
   ],
   "source": [
    "sns.set(rc={'figure.figsize':(15,8.27)})\n",
    "\n",
    "\n",
    "aux = df1[(df1['state_holiday']!= '0') & (df1['sales']>0)]\n",
    "\n",
    "plt.subplot (1,3,1)\n",
    "sns.boxplot(data=aux, x ='state_holiday',y ='sales' )\n",
    "\n",
    "plt.subplot(1,3,2)\n",
    "\n",
    "sns.boxplot(data=aux, x= 'store_type', y = 'sales')\n",
    "\n",
    "plt.subplot(1,3,3)\n",
    "sns.boxplot(data=aux, x='assortment', y = 'sales' )\n",
    "\n"
   ]
  },
  {
   "cell_type": "markdown",
   "id": "d8817be7",
   "metadata": {},
   "source": [
    "# 2.0 PASSO 02 - FEATURE ENGINEERING"
   ]
  },
  {
   "cell_type": "code",
   "execution_count": 19,
   "id": "36678da5",
   "metadata": {
    "ExecuteTime": {
     "end_time": "2022-08-25T08:27:56.402857Z",
     "start_time": "2022-08-25T08:27:56.377925Z"
    }
   },
   "outputs": [],
   "source": [
    "df2 = df1"
   ]
  },
  {
   "cell_type": "markdown",
   "id": "397b70a4",
   "metadata": {
    "heading_collapsed": true
   },
   "source": [
    "## 2.1. Mapa Mental de Hipóteses\n"
   ]
  },
  {
   "cell_type": "code",
   "execution_count": 20,
   "id": "307873d4",
   "metadata": {
    "ExecuteTime": {
     "end_time": "2022-08-25T08:27:56.497604Z",
     "start_time": "2022-08-25T08:27:56.410838Z"
    },
    "hidden": true
   },
   "outputs": [
    {
     "data": {
      "image/png": "[encoded data removed]",
      "text/plain": [
       "<IPython.core.display.Image object>"
      ]
     },
     "execution_count": 20,
     "metadata": {},
     "output_type": "execute_result"
    }
   ],
   "source": [
    "Image('img\\MindMapHypothesis.png')"
   ]
  },
  {
   "cell_type": "code",
   "execution_count": null,
   "id": "5c45a537",
   "metadata": {
    "hidden": true
   },
   "outputs": [],
   "source": []
  },
  {
   "cell_type": "markdown",
   "id": "0a397b5e",
   "metadata": {
    "heading_collapsed": true
   },
   "source": [
    "## 2. 2 Lista de Hipóteses:"
   ]
  },
  {
   "cell_type": "markdown",
   "id": "d8618cf6",
   "metadata": {
    "hidden": true
   },
   "source": [
    "### 2.2.1. Hipoteses Loja\n",
    "**1.**  Lojas com número maior de funcionários deveriam vender mais.\n",
    "\n",
    "**2.**  Lojas com maior capacidade de estoque deveriam vender mais.\n",
    "\n",
    "**3.**  Lojas com maior porte deveriam vender mais.\n",
    "\n",
    "**4.**  Lojas com maior sortimentos deveriam vender mais.\n",
    "\n",
    "**5.**  Lojas com competidores mais próximos deveriam vender menos.\n",
    "\n",
    "**6.**  Lojas com competidores à mais tempo deveriam vendem mais."
   ]
  },
  {
   "cell_type": "markdown",
   "id": "bd9888ac",
   "metadata": {
    "hidden": true
   },
   "source": [
    "### 2.2.2. Hipoteses Produto\n",
    "**1.**  Lojas que investem mais em Marketing deveriam vender mais.\n",
    "\n",
    "**2.**  Lojas com maior exposição de produto deveriam vender mais.\n",
    "\n",
    "**3.**  Lojas com produtos com preço menor deveriam vender mais.\n",
    "\n",
    "**5.**  Lojas com promoções mais agressivas ( descontos maiores ), deveriam vender mais.\n",
    "\n",
    "**6.**  Lojas com promoções ativas por mais tempo deveriam vender mais.\n",
    "\n",
    "**7.**  Lojas com mais dias de promoção deveriam vender mais.\n",
    "\n",
    "**8.**  Lojas com mais promoções consecutivas deveriam vender mais."
   ]
  },
  {
   "cell_type": "markdown",
   "id": "a4334019",
   "metadata": {
    "hidden": true
   },
   "source": [
    "### 2.2.3. Hipoteses Tempo\n",
    "**1.** Lojas abertas durante o feriado de Natal deveriam vender mais.\n",
    "\n",
    "**2.** Lojas deveriam vender mais ao longo dos anos.\n",
    "\n",
    "**3.** Lojas deveriam vender mais no segundo semestre do ano.\n",
    "\n",
    "**4.** Lojas deveriam vender mais depois do dia 10 de cada mês.\n",
    "\n",
    "**5.** Lojas deveriam vender menos aos finais de semana.\n",
    "\n",
    "**6.** Lojas deveriam vender menos durante os feriados escolares."
   ]
  },
  {
   "cell_type": "markdown",
   "id": "968cbe6b",
   "metadata": {},
   "source": [
    "## 2.3 Lista  Hipóteses Finais\n"
   ]
  },
  {
   "cell_type": "markdown",
   "id": "61a2dff5",
   "metadata": {},
   "source": [
    "**1.** Lojas com maior sortimentos deveriam vender mais.\n",
    "\n",
    "**2.** Lojas com competidores mais próximos deveriam vender menos.\n",
    "\n",
    "**3.** Lojas com competidores à mais tempo deveriam vendem mais.\n",
    "\n",
    "**4.** Lojas com promoções ativas por mais tempo deveriam vender mais.\n",
    "\n",
    "**5.** Lojas com mais dias de promoção deveriam vender mais.\n",
    "\n",
    "**7.** Lojas com mais promoções consecutivas deveriam vender mais.\n",
    "\n",
    "**8.** Lojas abertas durante o feriado de Natal deveriam vender mais.\n",
    "\n",
    "**9.** Lojas deveriam vender mais ao longo dos anos.\n",
    "\n",
    "**10.** Lojas deveriam vender mais no segundo semestre do ano.\n",
    "\n",
    "**11.** Lojas deveriam vender mais depois do dia 10 de cada mês.\n",
    "\n",
    "**12.** Lojas deveriam vender menos aos finais de semana.\n",
    "\n",
    "**13.** Lojas deveriam vender menos durante os feriados escolares."
   ]
  },
  {
   "cell_type": "markdown",
   "id": "a50acf2f",
   "metadata": {},
   "source": [
    "## 2.3 Feature Engineering"
   ]
  },
  {
   "cell_type": "code",
   "execution_count": 22,
   "id": "597aaeab",
   "metadata": {
    "ExecuteTime": {
     "end_time": "2022-08-25T08:35:08.147617Z",
     "start_time": "2022-08-25T08:31:59.733064Z"
    }
   },
   "outputs": [
    {
     "name": "stderr",
     "output_type": "stream",
     "text": [
      "C:\\Users\\Jacqueline\\AppData\\Local\\Temp\\ipykernel_15324\\3098993075.py:11: FutureWarning: Series.dt.weekofyear and Series.dt.week have been deprecated. Please use Series.dt.isocalendar().week instead.\n",
      "  df2['week_of_year'] = df2['date'].dt.weekofyear\n"
     ]
    }
   ],
   "source": [
    "#year\n",
    "df2['year'] = df2['date'].dt.year\n",
    "\n",
    "#month\n",
    "df2['month'] = df2['date'].dt.month\n",
    "\n",
    "#day\n",
    "df2['day']= df2['date'].dt.day\n",
    "\n",
    "#week of year\n",
    "df2['week_of_year'] = df2['date'].dt.weekofyear\n",
    "\n",
    "#year week\n",
    "df2['year_week'] = df2['date'].dt.strftime('%Y-%W')\n",
    "\n",
    "\n",
    "#competion since\n",
    "df2['competition_since']=df2.apply(lambda x: dt.datetime(year = x['competition_open_since_year'], month = x['competition_open_since_month'], day = 1), axis=1)\n",
    "\n",
    "\n",
    "df2['competition_time_month']=((df2['date'] - df2['competition_since'])/30).apply(lambda x: x.days).astype(int)\n",
    "\n",
    "#promo since\n",
    "##convertendo o ano de float para inteiro\n",
    "df2['promo2_since_year'] = df2['promo2_since_year'].astype('int64')\n",
    "\n",
    "##juntando o ano com o mes\n",
    "df2['promo_since'] = df2['promo2_since_year'].astype(str) +  '-' + df2['promo2_since_week'].astype(str)\n",
    "\n",
    "##convertendo a data em semana\n",
    "df2['promo_since'] = df2['promo_since'].apply (lambda x: dt.datetime.strptime (x+ '-1', '%Y-%W-%w') - dt.timedelta(days=7))\n",
    "\n",
    "##subraindo a data de promocao da data de venda para achar quantas semanas ficou em promocao\n",
    "df2['promo_time_week']= ((df2['date'] - df2['promo_since'])/7).apply(lambda x: x.days).astype('int64')\n",
    "\n",
    "\n",
    "#assortment\n",
    "##atribuindo o significado de cada letra no dataframe\n",
    "df2['assortment'] = df2['assortment'].apply(lambda x: 'basic' if x== 'a' else 'extra' if x== 'b' else 'extend')\n",
    "\n",
    "\n",
    "#state holiday\n",
    "df2['state_holiday'] = df2['state_holiday'].apply(lambda x: 'public_holiday' if x == 'a' else 'easter_holiday' if x=='b' else 'Christmas' if x == 'c' else 'regular_day')\n"
   ]
  },
  {
   "cell_type": "code",
   "execution_count": 23,
   "id": "deea9618",
   "metadata": {
    "ExecuteTime": {
     "end_time": "2022-08-25T08:35:08.632261Z",
     "start_time": "2022-08-25T08:35:08.154533Z"
    }
   },
   "outputs": [
    {
     "data": {
      "text/html": [
       "<div>\n",
       "<style scoped>\n",
       "    .dataframe tbody tr th:only-of-type {\n",
       "        vertical-align: middle;\n",
       "    }\n",
       "\n",
       "    .dataframe tbody tr th {\n",
       "        vertical-align: top;\n",
       "    }\n",
       "\n",
       "    .dataframe thead th {\n",
       "        text-align: right;\n",
       "    }\n",
       "</style>\n",
       "<table border=\"1\" class=\"dataframe\">\n",
       "  <thead>\n",
       "    <tr style=\"text-align: right;\">\n",
       "      <th></th>\n",
       "      <th>913671</th>\n",
       "      <th>691952</th>\n",
       "      <th>40411</th>\n",
       "    </tr>\n",
       "  </thead>\n",
       "  <tbody>\n",
       "    <tr>\n",
       "      <th>store</th>\n",
       "      <td>157</td>\n",
       "      <td>323</td>\n",
       "      <td>272</td>\n",
       "    </tr>\n",
       "    <tr>\n",
       "      <th>day_of_week</th>\n",
       "      <td>3</td>\n",
       "      <td>6</td>\n",
       "      <td>4</td>\n",
       "    </tr>\n",
       "    <tr>\n",
       "      <th>date</th>\n",
       "      <td>2013-04-03 00:00:00</td>\n",
       "      <td>2013-10-19 00:00:00</td>\n",
       "      <td>2015-06-25 00:00:00</td>\n",
       "    </tr>\n",
       "    <tr>\n",
       "      <th>sales</th>\n",
       "      <td>8094</td>\n",
       "      <td>5965</td>\n",
       "      <td>4898</td>\n",
       "    </tr>\n",
       "    <tr>\n",
       "      <th>customers</th>\n",
       "      <td>922</td>\n",
       "      <td>589</td>\n",
       "      <td>576</td>\n",
       "    </tr>\n",
       "    <tr>\n",
       "      <th>open</th>\n",
       "      <td>1</td>\n",
       "      <td>1</td>\n",
       "      <td>1</td>\n",
       "    </tr>\n",
       "    <tr>\n",
       "      <th>promo</th>\n",
       "      <td>0</td>\n",
       "      <td>0</td>\n",
       "      <td>0</td>\n",
       "    </tr>\n",
       "    <tr>\n",
       "      <th>state_holiday</th>\n",
       "      <td>regular_day</td>\n",
       "      <td>regular_day</td>\n",
       "      <td>regular_day</td>\n",
       "    </tr>\n",
       "    <tr>\n",
       "      <th>school_holiday</th>\n",
       "      <td>1</td>\n",
       "      <td>0</td>\n",
       "      <td>0</td>\n",
       "    </tr>\n",
       "    <tr>\n",
       "      <th>store_type</th>\n",
       "      <td>a</td>\n",
       "      <td>d</td>\n",
       "      <td>a</td>\n",
       "    </tr>\n",
       "    <tr>\n",
       "      <th>assortment</th>\n",
       "      <td>extend</td>\n",
       "      <td>extend</td>\n",
       "      <td>extend</td>\n",
       "    </tr>\n",
       "    <tr>\n",
       "      <th>competition_distance</th>\n",
       "      <td>2950.0</td>\n",
       "      <td>8400.0</td>\n",
       "      <td>16180.0</td>\n",
       "    </tr>\n",
       "    <tr>\n",
       "      <th>competition_open_since_month</th>\n",
       "      <td>10</td>\n",
       "      <td>4</td>\n",
       "      <td>7</td>\n",
       "    </tr>\n",
       "    <tr>\n",
       "      <th>competition_open_since_year</th>\n",
       "      <td>2004</td>\n",
       "      <td>2012</td>\n",
       "      <td>2003</td>\n",
       "    </tr>\n",
       "    <tr>\n",
       "      <th>promo2</th>\n",
       "      <td>0</td>\n",
       "      <td>1</td>\n",
       "      <td>1</td>\n",
       "    </tr>\n",
       "    <tr>\n",
       "      <th>promo2_since_week</th>\n",
       "      <td>14</td>\n",
       "      <td>5</td>\n",
       "      <td>14</td>\n",
       "    </tr>\n",
       "    <tr>\n",
       "      <th>promo2_since_year</th>\n",
       "      <td>2013</td>\n",
       "      <td>2013</td>\n",
       "      <td>2011</td>\n",
       "    </tr>\n",
       "    <tr>\n",
       "      <th>promo_interval</th>\n",
       "      <td>0</td>\n",
       "      <td>Feb,May,Aug,Nov</td>\n",
       "      <td>Jan,Apr,Jul,Oct</td>\n",
       "    </tr>\n",
       "    <tr>\n",
       "      <th>month_map</th>\n",
       "      <td>Apr</td>\n",
       "      <td>Oct</td>\n",
       "      <td>Jun</td>\n",
       "    </tr>\n",
       "    <tr>\n",
       "      <th>is_promo</th>\n",
       "      <td>0</td>\n",
       "      <td>0</td>\n",
       "      <td>0</td>\n",
       "    </tr>\n",
       "    <tr>\n",
       "      <th>year</th>\n",
       "      <td>2013</td>\n",
       "      <td>2013</td>\n",
       "      <td>2015</td>\n",
       "    </tr>\n",
       "    <tr>\n",
       "      <th>month</th>\n",
       "      <td>4</td>\n",
       "      <td>10</td>\n",
       "      <td>6</td>\n",
       "    </tr>\n",
       "    <tr>\n",
       "      <th>day</th>\n",
       "      <td>3</td>\n",
       "      <td>19</td>\n",
       "      <td>25</td>\n",
       "    </tr>\n",
       "    <tr>\n",
       "      <th>week_of_year</th>\n",
       "      <td>14</td>\n",
       "      <td>42</td>\n",
       "      <td>26</td>\n",
       "    </tr>\n",
       "    <tr>\n",
       "      <th>year_week</th>\n",
       "      <td>2013-13</td>\n",
       "      <td>2013-41</td>\n",
       "      <td>2015-25</td>\n",
       "    </tr>\n",
       "    <tr>\n",
       "      <th>competition_since</th>\n",
       "      <td>2004-10-01 00:00:00</td>\n",
       "      <td>2012-04-01 00:00:00</td>\n",
       "      <td>2003-07-01 00:00:00</td>\n",
       "    </tr>\n",
       "    <tr>\n",
       "      <th>competition_time_month</th>\n",
       "      <td>103</td>\n",
       "      <td>18</td>\n",
       "      <td>145</td>\n",
       "    </tr>\n",
       "    <tr>\n",
       "      <th>promo_since</th>\n",
       "      <td>2013-04-01 00:00:00</td>\n",
       "      <td>2013-01-28 00:00:00</td>\n",
       "      <td>2011-03-28 00:00:00</td>\n",
       "    </tr>\n",
       "    <tr>\n",
       "      <th>promo_time_week</th>\n",
       "      <td>0</td>\n",
       "      <td>37</td>\n",
       "      <td>221</td>\n",
       "    </tr>\n",
       "  </tbody>\n",
       "</table>\n",
       "</div>"
      ],
      "text/plain": [
       "                                           913671               691952  \\\n",
       "store                                         157                  323   \n",
       "day_of_week                                     3                    6   \n",
       "date                          2013-04-03 00:00:00  2013-10-19 00:00:00   \n",
       "sales                                        8094                 5965   \n",
       "customers                                     922                  589   \n",
       "open                                            1                    1   \n",
       "promo                                           0                    0   \n",
       "state_holiday                         regular_day          regular_day   \n",
       "school_holiday                                  1                    0   \n",
       "store_type                                      a                    d   \n",
       "assortment                                 extend               extend   \n",
       "competition_distance                       2950.0               8400.0   \n",
       "competition_open_since_month                   10                    4   \n",
       "competition_open_since_year                  2004                 2012   \n",
       "promo2                                          0                    1   \n",
       "promo2_since_week                              14                    5   \n",
       "promo2_since_year                            2013                 2013   \n",
       "promo_interval                                  0      Feb,May,Aug,Nov   \n",
       "month_map                                     Apr                  Oct   \n",
       "is_promo                                        0                    0   \n",
       "year                                         2013                 2013   \n",
       "month                                           4                   10   \n",
       "day                                             3                   19   \n",
       "week_of_year                                   14                   42   \n",
       "year_week                                 2013-13              2013-41   \n",
       "competition_since             2004-10-01 00:00:00  2012-04-01 00:00:00   \n",
       "competition_time_month                        103                   18   \n",
       "promo_since                   2013-04-01 00:00:00  2013-01-28 00:00:00   \n",
       "promo_time_week                                 0                   37   \n",
       "\n",
       "                                           40411   \n",
       "store                                         272  \n",
       "day_of_week                                     4  \n",
       "date                          2015-06-25 00:00:00  \n",
       "sales                                        4898  \n",
       "customers                                     576  \n",
       "open                                            1  \n",
       "promo                                           0  \n",
       "state_holiday                         regular_day  \n",
       "school_holiday                                  0  \n",
       "store_type                                      a  \n",
       "assortment                                 extend  \n",
       "competition_distance                      16180.0  \n",
       "competition_open_since_month                    7  \n",
       "competition_open_since_year                  2003  \n",
       "promo2                                          1  \n",
       "promo2_since_week                              14  \n",
       "promo2_since_year                            2011  \n",
       "promo_interval                    Jan,Apr,Jul,Oct  \n",
       "month_map                                     Jun  \n",
       "is_promo                                        0  \n",
       "year                                         2015  \n",
       "month                                           6  \n",
       "day                                            25  \n",
       "week_of_year                                   26  \n",
       "year_week                                 2015-25  \n",
       "competition_since             2003-07-01 00:00:00  \n",
       "competition_time_month                        145  \n",
       "promo_since                   2011-03-28 00:00:00  \n",
       "promo_time_week                               221  "
      ]
     },
     "execution_count": 23,
     "metadata": {},
     "output_type": "execute_result"
    }
   ],
   "source": [
    "df2.sample(3).T\n",
    "\n",
    "\n"
   ]
  },
  {
   "cell_type": "code",
   "execution_count": null,
   "id": "a49d599a",
   "metadata": {
    "ExecuteTime": {
     "end_time": "2022-08-25T08:31:06.285632Z",
     "start_time": "2022-08-25T08:31:06.285632Z"
    }
   },
   "outputs": [],
   "source": [
    "df2.dtypes"
   ]
  },
  {
   "cell_type": "markdown",
   "id": "93a1c2d4",
   "metadata": {
    "ExecuteTime": {
     "end_time": "2022-08-23T09:10:12.483568Z",
     "start_time": "2022-08-23T09:10:12.454688Z"
    }
   },
   "source": [
    "# 3.0 PASSO 03 - FILTRAGEM DE VARIÁVEIS"
   ]
  },
  {
   "cell_type": "code",
   "execution_count": 25,
   "id": "13b2c671",
   "metadata": {
    "ExecuteTime": {
     "end_time": "2022-08-25T08:35:40.270839Z",
     "start_time": "2022-08-25T08:35:40.055760Z"
    }
   },
   "outputs": [
    {
     "data": {
      "text/html": [
       "<div>\n",
       "<style scoped>\n",
       "    .dataframe tbody tr th:only-of-type {\n",
       "        vertical-align: middle;\n",
       "    }\n",
       "\n",
       "    .dataframe tbody tr th {\n",
       "        vertical-align: top;\n",
       "    }\n",
       "\n",
       "    .dataframe thead th {\n",
       "        text-align: right;\n",
       "    }\n",
       "</style>\n",
       "<table border=\"1\" class=\"dataframe\">\n",
       "  <thead>\n",
       "    <tr style=\"text-align: right;\">\n",
       "      <th></th>\n",
       "      <th>store</th>\n",
       "      <th>day_of_week</th>\n",
       "      <th>date</th>\n",
       "      <th>sales</th>\n",
       "      <th>customers</th>\n",
       "      <th>open</th>\n",
       "      <th>promo</th>\n",
       "      <th>state_holiday</th>\n",
       "      <th>school_holiday</th>\n",
       "      <th>store_type</th>\n",
       "      <th>...</th>\n",
       "      <th>is_promo</th>\n",
       "      <th>year</th>\n",
       "      <th>month</th>\n",
       "      <th>day</th>\n",
       "      <th>week_of_year</th>\n",
       "      <th>year_week</th>\n",
       "      <th>competition_since</th>\n",
       "      <th>competition_time_month</th>\n",
       "      <th>promo_since</th>\n",
       "      <th>promo_time_week</th>\n",
       "    </tr>\n",
       "  </thead>\n",
       "  <tbody>\n",
       "    <tr>\n",
       "      <th>0</th>\n",
       "      <td>1</td>\n",
       "      <td>5</td>\n",
       "      <td>2015-07-31</td>\n",
       "      <td>5263</td>\n",
       "      <td>555</td>\n",
       "      <td>1</td>\n",
       "      <td>1</td>\n",
       "      <td>regular_day</td>\n",
       "      <td>1</td>\n",
       "      <td>c</td>\n",
       "      <td>...</td>\n",
       "      <td>0</td>\n",
       "      <td>2015</td>\n",
       "      <td>7</td>\n",
       "      <td>31</td>\n",
       "      <td>31</td>\n",
       "      <td>2015-30</td>\n",
       "      <td>2008-09-01</td>\n",
       "      <td>84</td>\n",
       "      <td>2015-07-27</td>\n",
       "      <td>0</td>\n",
       "    </tr>\n",
       "    <tr>\n",
       "      <th>1</th>\n",
       "      <td>2</td>\n",
       "      <td>5</td>\n",
       "      <td>2015-07-31</td>\n",
       "      <td>6064</td>\n",
       "      <td>625</td>\n",
       "      <td>1</td>\n",
       "      <td>1</td>\n",
       "      <td>regular_day</td>\n",
       "      <td>1</td>\n",
       "      <td>a</td>\n",
       "      <td>...</td>\n",
       "      <td>1</td>\n",
       "      <td>2015</td>\n",
       "      <td>7</td>\n",
       "      <td>31</td>\n",
       "      <td>31</td>\n",
       "      <td>2015-30</td>\n",
       "      <td>2007-11-01</td>\n",
       "      <td>94</td>\n",
       "      <td>2010-03-22</td>\n",
       "      <td>279</td>\n",
       "    </tr>\n",
       "    <tr>\n",
       "      <th>2</th>\n",
       "      <td>3</td>\n",
       "      <td>5</td>\n",
       "      <td>2015-07-31</td>\n",
       "      <td>8314</td>\n",
       "      <td>821</td>\n",
       "      <td>1</td>\n",
       "      <td>1</td>\n",
       "      <td>regular_day</td>\n",
       "      <td>1</td>\n",
       "      <td>a</td>\n",
       "      <td>...</td>\n",
       "      <td>1</td>\n",
       "      <td>2015</td>\n",
       "      <td>7</td>\n",
       "      <td>31</td>\n",
       "      <td>31</td>\n",
       "      <td>2015-30</td>\n",
       "      <td>2006-12-01</td>\n",
       "      <td>105</td>\n",
       "      <td>2011-03-28</td>\n",
       "      <td>226</td>\n",
       "    </tr>\n",
       "    <tr>\n",
       "      <th>3</th>\n",
       "      <td>4</td>\n",
       "      <td>5</td>\n",
       "      <td>2015-07-31</td>\n",
       "      <td>13995</td>\n",
       "      <td>1498</td>\n",
       "      <td>1</td>\n",
       "      <td>1</td>\n",
       "      <td>regular_day</td>\n",
       "      <td>1</td>\n",
       "      <td>c</td>\n",
       "      <td>...</td>\n",
       "      <td>0</td>\n",
       "      <td>2015</td>\n",
       "      <td>7</td>\n",
       "      <td>31</td>\n",
       "      <td>31</td>\n",
       "      <td>2015-30</td>\n",
       "      <td>2009-09-01</td>\n",
       "      <td>71</td>\n",
       "      <td>2015-07-27</td>\n",
       "      <td>0</td>\n",
       "    </tr>\n",
       "    <tr>\n",
       "      <th>4</th>\n",
       "      <td>5</td>\n",
       "      <td>5</td>\n",
       "      <td>2015-07-31</td>\n",
       "      <td>4822</td>\n",
       "      <td>559</td>\n",
       "      <td>1</td>\n",
       "      <td>1</td>\n",
       "      <td>regular_day</td>\n",
       "      <td>1</td>\n",
       "      <td>a</td>\n",
       "      <td>...</td>\n",
       "      <td>0</td>\n",
       "      <td>2015</td>\n",
       "      <td>7</td>\n",
       "      <td>31</td>\n",
       "      <td>31</td>\n",
       "      <td>2015-30</td>\n",
       "      <td>2015-04-01</td>\n",
       "      <td>4</td>\n",
       "      <td>2015-07-27</td>\n",
       "      <td>0</td>\n",
       "    </tr>\n",
       "  </tbody>\n",
       "</table>\n",
       "<p>5 rows × 29 columns</p>\n",
       "</div>"
      ],
      "text/plain": [
       "   store  day_of_week       date  sales  customers  open  promo state_holiday  \\\n",
       "0      1            5 2015-07-31   5263        555     1      1   regular_day   \n",
       "1      2            5 2015-07-31   6064        625     1      1   regular_day   \n",
       "2      3            5 2015-07-31   8314        821     1      1   regular_day   \n",
       "3      4            5 2015-07-31  13995       1498     1      1   regular_day   \n",
       "4      5            5 2015-07-31   4822        559     1      1   regular_day   \n",
       "\n",
       "   school_holiday store_type  ... is_promo  year  month  day  week_of_year  \\\n",
       "0               1          c  ...        0  2015      7   31            31   \n",
       "1               1          a  ...        1  2015      7   31            31   \n",
       "2               1          a  ...        1  2015      7   31            31   \n",
       "3               1          c  ...        0  2015      7   31            31   \n",
       "4               1          a  ...        0  2015      7   31            31   \n",
       "\n",
       "   year_week  competition_since competition_time_month promo_since  \\\n",
       "0    2015-30         2008-09-01                     84  2015-07-27   \n",
       "1    2015-30         2007-11-01                     94  2010-03-22   \n",
       "2    2015-30         2006-12-01                    105  2011-03-28   \n",
       "3    2015-30         2009-09-01                     71  2015-07-27   \n",
       "4    2015-30         2015-04-01                      4  2015-07-27   \n",
       "\n",
       "   promo_time_week  \n",
       "0                0  \n",
       "1              279  \n",
       "2              226  \n",
       "3                0  \n",
       "4                0  \n",
       "\n",
       "[5 rows x 29 columns]"
      ]
     },
     "execution_count": 25,
     "metadata": {},
     "output_type": "execute_result"
    }
   ],
   "source": [
    "df3 = df2.copy()\n",
    "df3.head()"
   ]
  },
  {
   "cell_type": "markdown",
   "id": "fcf2d674",
   "metadata": {},
   "source": [
    "## 3.1 Filtragem das linhas"
   ]
  },
  {
   "cell_type": "code",
   "execution_count": 26,
   "id": "3b0f0b5e",
   "metadata": {
    "ExecuteTime": {
     "end_time": "2022-08-25T08:41:33.600920Z",
     "start_time": "2022-08-25T08:41:33.320649Z"
    }
   },
   "outputs": [],
   "source": [
    "#Filtrando as linhas de lojas fechdas pois nao faz sentindo fazer uma previsao de venda de loja fechada e tbm de vendas diferentes de zero\n",
    "\n",
    "#Filtragem de linhas a serem utilizadas\n",
    "df3 = df3[(df3['open'] !=0 ) & (df3['sales'] > 0)]\n"
   ]
  },
  {
   "cell_type": "markdown",
   "id": "599fb194",
   "metadata": {},
   "source": [
    "## 3.2 Seleção  das colunas"
   ]
  },
  {
   "cell_type": "code",
   "execution_count": 28,
   "id": "000a27cc",
   "metadata": {
    "ExecuteTime": {
     "end_time": "2022-08-25T08:46:15.730265Z",
     "start_time": "2022-08-25T08:46:15.573687Z"
    }
   },
   "outputs": [],
   "source": [
    "#Excluindo as colunas de clientes pois no momento do modelo em producao nao se tem essa variavel e nao faz sentido colocar a variavel de loja aberta uma vez que ela nao terá um resutado diferente. As colunas de promo_interval e month_map sao excluídas pq foram usadas para derivar colunas\n",
    "\n",
    "#seleca de colunas a serem excluídas\n",
    "cols_drop = ['customers', 'open','promo_interval', 'month_map']\n",
    "\n",
    "#dropando as colunas\n",
    "\n",
    "df3 = df3.drop(cols_drop, axis = 1)\n",
    "\n",
    "\n"
   ]
  },
  {
   "cell_type": "code",
   "execution_count": 29,
   "id": "64234cc1",
   "metadata": {
    "ExecuteTime": {
     "end_time": "2022-08-25T08:46:27.356515Z",
     "start_time": "2022-08-25T08:46:27.339556Z"
    }
   },
   "outputs": [
    {
     "data": {
      "text/plain": [
       "Index(['store', 'day_of_week', 'date', 'sales', 'promo', 'state_holiday',\n",
       "       'school_holiday', 'store_type', 'assortment', 'competition_distance',\n",
       "       'competition_open_since_month', 'competition_open_since_year', 'promo2',\n",
       "       'promo2_since_week', 'promo2_since_year', 'is_promo', 'year', 'month',\n",
       "       'day', 'week_of_year', 'year_week', 'competition_since',\n",
       "       'competition_time_month', 'promo_since', 'promo_time_week'],\n",
       "      dtype='object')"
      ]
     },
     "execution_count": 29,
     "metadata": {},
     "output_type": "execute_result"
    }
   ],
   "source": [
    "df3.columns\n"
   ]
  }
 ],
 "metadata": {
  "kernelspec": {
   "display_name": "Python 3 (ipykernel)",
   "language": "python",
   "name": "python3"
  },
  "language_info": {
   "codemirror_mode": {
    "name": "ipython",
    "version": 3
   },
   "file_extension": ".py",
   "mimetype": "text/x-python",
   "name": "python",
   "nbconvert_exporter": "python",
   "pygments_lexer": "ipython3",
   "version": "3.9.12"
  }
 },
 "nbformat": 4,
 "nbformat_minor": 5
}
